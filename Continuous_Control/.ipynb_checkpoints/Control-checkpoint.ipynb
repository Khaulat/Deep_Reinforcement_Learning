{
 "cells": [
  {
   "cell_type": "markdown",
   "metadata": {},
   "source": [
    "# This file contains code to train [agents]() using the DDPG algorithm with fuction approximators defined [here]()"
   ]
  },
  {
   "cell_type": "markdown",
   "metadata": {},
   "source": [
    "## Load and visualize environment"
   ]
  },
  {
   "cell_type": "code",
   "execution_count": 1,
   "metadata": {},
   "outputs": [
    {
     "name": "stderr",
     "output_type": "stream",
     "text": [
      "INFO:unityagents:\n",
      "'Academy' started successfully!\n",
      "Unity Academy name: Academy\n",
      "        Number of Brains: 1\n",
      "        Number of External Brains : 1\n",
      "        Lesson number : 0\n",
      "        Reset Parameters :\n",
      "\t\tgoal_speed -> 1.0\n",
      "\t\tgoal_size -> 5.0\n",
      "Unity brain name: ReacherBrain\n",
      "        Number of Visual Observations (per agent): 0\n",
      "        Vector Observation space type: continuous\n",
      "        Vector Observation space size (per agent): 33\n",
      "        Number of stacked Vector Observation: 1\n",
      "        Vector Action space type: continuous\n",
      "        Vector Action space size (per agent): 4\n",
      "        Vector Action descriptions: , , , \n"
     ]
    }
   ],
   "source": [
    "# import and load environment\n",
    "\n",
    "from unityagents import UnityEnvironment\n",
    "import numpy as np\n",
    "\n",
    "env = UnityEnvironment(file_name='Reacher_Linux/Reacher.x86_64')"
   ]
  },
  {
   "cell_type": "markdown",
   "metadata": {},
   "source": [
    "Get default environment brain for deciding agents actions"
   ]
  },
  {
   "cell_type": "code",
   "execution_count": 2,
   "metadata": {},
   "outputs": [],
   "source": [
    "brain_name = env.brain_names[0]\n",
    "brain = env.brains[brain_name]"
   ]
  },
  {
   "cell_type": "markdown",
   "metadata": {},
   "source": [
    "Examine state and action spaces"
   ]
  },
  {
   "cell_type": "code",
   "execution_count": 3,
   "metadata": {},
   "outputs": [
    {
     "name": "stdout",
     "output_type": "stream",
     "text": [
      "Number of agents: 20\n",
      "Size of each action: 4\n",
      "There are 20 agents. Each observes a state with length: 33\n",
      "The state for the first agent looks like: [ 0.00000000e+00 -4.00000000e+00  0.00000000e+00  1.00000000e+00\n",
      " -0.00000000e+00 -0.00000000e+00 -4.37113883e-08  0.00000000e+00\n",
      "  0.00000000e+00  0.00000000e+00  0.00000000e+00  0.00000000e+00\n",
      "  0.00000000e+00  0.00000000e+00 -1.00000000e+01  0.00000000e+00\n",
      "  1.00000000e+00 -0.00000000e+00 -0.00000000e+00 -4.37113883e-08\n",
      "  0.00000000e+00  0.00000000e+00  0.00000000e+00  0.00000000e+00\n",
      "  0.00000000e+00  0.00000000e+00  5.75471878e+00 -1.00000000e+00\n",
      "  5.55726624e+00  0.00000000e+00  1.00000000e+00  0.00000000e+00\n",
      " -1.68164849e-01]\n"
     ]
    }
   ],
   "source": [
    "# reset the environment\n",
    "env_info = env.reset(train_mode=True)[brain_name]\n",
    "\n",
    "# number of agents\n",
    "num_agents = len(env_info.agents)\n",
    "print('Number of agents:', num_agents)\n",
    "\n",
    "# size of each action\n",
    "action_size = brain.vector_action_space_size\n",
    "print('Size of each action:', action_size)\n",
    "\n",
    "# examine the state space \n",
    "states = env_info.vector_observations\n",
    "state_size = states.shape[1]\n",
    "print('There are {} agents. Each observes a state with length: {}'.format(states.shape[0], state_size))\n",
    "print('The state for the first agent looks like:', states[0])"
   ]
  },
  {
   "cell_type": "markdown",
   "metadata": {},
   "source": [
    "## Train agent"
   ]
  },
  {
   "cell_type": "code",
   "execution_count": 4,
   "metadata": {},
   "outputs": [],
   "source": [
    "# import dependencies\n",
    "\n",
    "from  collections  import deque\n",
    "from itertools import count\n",
    "import torch\n",
    "import time\n",
    "from ddpg_agent import Agent\n",
    "import matplotlib.pyplot as plt\n",
    "%matplotlib inline\n",
    "env_info = env.reset(train_mode=True)[brain_name]\n",
    "agent = Agent(state_size=state_size, action_size=action_size, random_seed=8)\n"
   ]
  },
  {
   "cell_type": "code",
   "execution_count": 5,
   "metadata": {},
   "outputs": [
    {
     "name": "stdout",
     "output_type": "stream",
     "text": [
      "Episode: 1, Score: 0.41, Max: 1.10, Min: 0.00 \n",
      "Episode: 2, Score: 1.00, Max: 2.09, Min: 0.20 \n",
      "Episode: 3, Score: 0.71, Max: 1.73, Min: 0.12 \n",
      "Episode: 4, Score: 0.67, Max: 1.86, Min: 0.00 \n",
      "Episode: 5, Score: 0.68, Max: 1.32, Min: 0.00 \n",
      "Episode: 6, Score: 0.97, Max: 2.13, Min: 0.24 \n",
      "Episode: 7, Score: 1.03, Max: 2.04, Min: 0.04 \n",
      "Episode: 8, Score: 0.75, Max: 2.13, Min: 0.09 \n",
      "Episode: 9, Score: 0.77, Max: 1.65, Min: 0.25 \n",
      "Episode: 10, Score: 0.83, Max: 1.81, Min: 0.02 \n",
      "*** Episode 10\tAverage Score: 0.78, Time: 00:02:41 *** \n",
      "Episode: 11, Score: 0.86, Max: 2.51, Min: 0.15 \n",
      "Episode: 12, Score: 0.95, Max: 2.23, Min: 0.00 \n",
      "Episode: 13, Score: 1.00, Max: 2.14, Min: 0.00 \n",
      "Episode: 14, Score: 1.20, Max: 2.08, Min: 0.26 \n",
      "Episode: 15, Score: 1.08, Max: 2.18, Min: 0.37 \n",
      "Episode: 16, Score: 0.96, Max: 2.75, Min: 0.08 \n",
      "Episode: 17, Score: 1.15, Max: 2.03, Min: 0.26 \n",
      "Episode: 18, Score: 1.59, Max: 2.66, Min: 0.39 \n",
      "Episode: 19, Score: 1.14, Max: 2.86, Min: 0.00 \n",
      "Episode: 20, Score: 1.07, Max: 2.04, Min: 0.26 \n",
      "*** Episode 20\tAverage Score: 0.94, Time: 00:05:37 *** \n",
      "Episode: 21, Score: 1.24, Max: 2.41, Min: 0.11 \n",
      "Episode: 22, Score: 1.45, Max: 2.95, Min: 0.38 \n",
      "Episode: 23, Score: 1.26, Max: 2.86, Min: 0.08 \n",
      "Episode: 24, Score: 1.22, Max: 2.65, Min: 0.30 \n",
      "Episode: 25, Score: 1.53, Max: 2.64, Min: 0.22 \n",
      "Episode: 26, Score: 1.83, Max: 3.45, Min: 0.49 \n",
      "Episode: 27, Score: 1.85, Max: 3.68, Min: 0.84 \n",
      "Episode: 28, Score: 2.07, Max: 3.34, Min: 0.60 \n",
      "Episode: 29, Score: 2.03, Max: 3.64, Min: 0.69 \n",
      "Episode: 30, Score: 2.21, Max: 3.49, Min: 0.89 \n",
      "*** Episode 30\tAverage Score: 1.18, Time: 00:08:53 *** \n",
      "Episode: 31, Score: 2.21, Max: 3.54, Min: 1.20 \n",
      "Episode: 32, Score: 2.00, Max: 3.65, Min: 0.88 \n",
      "Episode: 33, Score: 2.55, Max: 3.86, Min: 1.45 \n",
      "Episode: 34, Score: 2.07, Max: 3.22, Min: 0.92 \n",
      "Episode: 35, Score: 2.80, Max: 4.69, Min: 1.09 \n",
      "Episode: 36, Score: 2.42, Max: 3.87, Min: 1.49 \n",
      "Episode: 37, Score: 2.81, Max: 7.57, Min: 1.01 \n",
      "Episode: 38, Score: 2.88, Max: 5.39, Min: 0.67 \n",
      "Episode: 39, Score: 3.61, Max: 5.06, Min: 2.20 \n",
      "Episode: 40, Score: 3.17, Max: 6.99, Min: 1.08 \n",
      "*** Episode 40\tAverage Score: 1.55, Time: 00:12:23 *** \n",
      "Episode: 41, Score: 3.36, Max: 5.67, Min: 1.90 \n",
      "Episode: 42, Score: 3.57, Max: 6.52, Min: 1.89 \n",
      "Episode: 43, Score: 3.69, Max: 6.05, Min: 1.42 \n",
      "Episode: 44, Score: 3.92, Max: 6.21, Min: 1.90 \n",
      "Episode: 45, Score: 4.45, Max: 7.05, Min: 2.23 \n",
      "Episode: 46, Score: 4.16, Max: 5.91, Min: 2.12 \n",
      "Episode: 47, Score: 4.41, Max: 6.90, Min: 1.65 \n",
      "Episode: 48, Score: 4.50, Max: 6.69, Min: 1.96 \n",
      "Episode: 49, Score: 4.20, Max: 7.04, Min: 1.99 \n",
      "Episode: 50, Score: 4.91, Max: 7.09, Min: 0.77 \n",
      "*** Episode 50\tAverage Score: 2.06, Time: 00:16:05 *** \n",
      "Episode: 51, Score: 4.80, Max: 7.71, Min: 1.65 \n",
      "Episode: 52, Score: 5.85, Max: 10.21, Min: 3.34 \n",
      "Episode: 53, Score: 5.56, Max: 9.35, Min: 2.81 \n",
      "Episode: 54, Score: 6.43, Max: 9.19, Min: 3.31 \n",
      "Episode: 55, Score: 5.30, Max: 7.96, Min: 3.37 \n",
      "Episode: 56, Score: 4.61, Max: 7.39, Min: 2.01 \n",
      "Episode: 57, Score: 6.32, Max: 9.17, Min: 2.81 \n",
      "Episode: 58, Score: 6.14, Max: 8.97, Min: 4.20 \n",
      "Episode: 59, Score: 5.59, Max: 8.15, Min: 1.99 \n",
      "Episode: 60, Score: 7.03, Max: 9.75, Min: 4.10 \n",
      "*** Episode 60\tAverage Score: 2.68, Time: 00:19:49 *** \n",
      "Episode: 61, Score: 7.16, Max: 18.21, Min: 4.24 \n",
      "Episode: 62, Score: 6.93, Max: 17.04, Min: 3.70 \n",
      "Episode: 63, Score: 9.06, Max: 17.23, Min: 4.93 \n",
      "Episode: 64, Score: 8.63, Max: 13.41, Min: 2.51 \n",
      "Episode: 65, Score: 7.69, Max: 12.65, Min: 3.97 \n",
      "Episode: 66, Score: 7.98, Max: 11.17, Min: 2.22 \n",
      "Episode: 67, Score: 7.53, Max: 12.02, Min: 3.70 \n",
      "Episode: 68, Score: 7.90, Max: 15.17, Min: 3.75 \n",
      "Episode: 69, Score: 8.35, Max: 14.20, Min: 2.59 \n",
      "Episode: 70, Score: 7.82, Max: 10.92, Min: 3.32 \n",
      "*** Episode 70\tAverage Score: 3.43, Time: 00:23:37 *** \n",
      "Episode: 71, Score: 9.20, Max: 12.44, Min: 6.64 \n",
      "Episode: 72, Score: 8.42, Max: 11.65, Min: 3.98 \n",
      "Episode: 73, Score: 8.73, Max: 13.58, Min: 2.53 \n",
      "Episode: 74, Score: 8.10, Max: 11.92, Min: 4.27 \n",
      "Episode: 75, Score: 10.10, Max: 15.81, Min: 4.56 \n",
      "Episode: 76, Score: 9.17, Max: 13.71, Min: 4.55 \n",
      "Episode: 77, Score: 13.79, Max: 27.42, Min: 5.31 \n",
      "Episode: 78, Score: 12.69, Max: 20.11, Min: 6.02 \n",
      "Episode: 79, Score: 11.35, Max: 15.93, Min: 4.39 \n",
      "Episode: 80, Score: 13.85, Max: 31.92, Min: 5.66 \n",
      "*** Episode 80\tAverage Score: 4.32, Time: 00:27:25 *** \n",
      "Episode: 81, Score: 11.50, Max: 20.91, Min: 2.34 \n",
      "Episode: 82, Score: 13.56, Max: 30.21, Min: 6.47 \n",
      "Episode: 83, Score: 13.59, Max: 18.84, Min: 6.08 \n",
      "Episode: 84, Score: 13.33, Max: 21.46, Min: 5.82 \n",
      "Episode: 85, Score: 13.38, Max: 19.35, Min: 7.64 \n",
      "Episode: 86, Score: 15.75, Max: 21.81, Min: 9.39 \n",
      "Episode: 87, Score: 16.69, Max: 34.38, Min: 8.44 \n",
      "Episode: 88, Score: 16.44, Max: 21.97, Min: 10.34 \n",
      "Episode: 89, Score: 22.11, Max: 32.50, Min: 10.50 \n",
      "Episode: 90, Score: 21.06, Max: 28.45, Min: 9.76 \n",
      "*** Episode 90\tAverage Score: 5.59, Time: 00:31:15 *** \n",
      "Episode: 91, Score: 18.66, Max: 29.12, Min: 10.01 \n",
      "Episode: 92, Score: 21.95, Max: 31.70, Min: 10.76 \n",
      "Episode: 93, Score: 18.74, Max: 28.62, Min: 10.32 \n",
      "Episode: 94, Score: 18.60, Max: 31.86, Min: 8.30 \n",
      "Episode: 95, Score: 20.92, Max: 28.91, Min: 10.26 \n",
      "Episode: 96, Score: 21.86, Max: 35.11, Min: 10.32 \n",
      "Episode: 97, Score: 21.21, Max: 30.41, Min: 9.86 \n",
      "Episode: 98, Score: 23.35, Max: 30.49, Min: 15.57 \n",
      "Episode: 99, Score: 24.41, Max: 38.17, Min: 12.61 \n",
      "Episode: 100, Score: 20.74, Max: 27.85, Min: 9.85 \n",
      "*** Episode 100\tAverage Score: 7.13, Time: 00:35:10 *** \n",
      "Episode: 101, Score: 23.72, Max: 39.08, Min: 11.91 \n",
      "Episode: 102, Score: 26.58, Max: 33.89, Min: 17.71 \n",
      "Episode: 103, Score: 27.49, Max: 35.41, Min: 18.73 \n",
      "Episode: 104, Score: 28.06, Max: 34.79, Min: 18.72 \n",
      "Episode: 105, Score: 27.90, Max: 34.97, Min: 12.86 \n",
      "Episode: 106, Score: 24.98, Max: 39.15, Min: 13.22 \n",
      "Episode: 107, Score: 29.51, Max: 38.42, Min: 8.19 \n",
      "Episode: 108, Score: 28.37, Max: 38.25, Min: 11.01 \n",
      "Episode: 109, Score: 31.22, Max: 39.05, Min: 21.15 \n",
      "Episode: 110, Score: 30.74, Max: 36.41, Min: 19.81 \n",
      "*** Episode 110\tAverage Score: 9.84, Time: 00:38:59 *** \n",
      "Episode: 111, Score: 34.43, Max: 39.34, Min: 25.71 \n",
      "Episode: 112, Score: 32.59, Max: 39.11, Min: 19.53 \n",
      "Episode: 113, Score: 27.89, Max: 39.09, Min: 15.64 \n",
      "Episode: 114, Score: 33.78, Max: 39.36, Min: 23.15 \n",
      "Episode: 115, Score: 32.85, Max: 39.55, Min: 19.88 \n",
      "Episode: 116, Score: 33.27, Max: 39.19, Min: 19.20 \n",
      "Episode: 117, Score: 34.62, Max: 39.58, Min: 20.10 \n",
      "Episode: 118, Score: 35.58, Max: 39.41, Min: 27.77 \n",
      "Episode: 119, Score: 34.88, Max: 39.59, Min: 24.17 \n",
      "Episode: 120, Score: 34.91, Max: 39.27, Min: 22.54 \n",
      "*** Episode 120\tAverage Score: 13.08, Time: 00:42:53 *** \n",
      "Episode: 121, Score: 35.99, Max: 39.48, Min: 30.46 \n",
      "Episode: 122, Score: 36.55, Max: 39.45, Min: 31.68 \n",
      "Episode: 123, Score: 35.13, Max: 38.72, Min: 30.41 \n",
      "Episode: 124, Score: 35.00, Max: 38.57, Min: 26.44 \n",
      "Episode: 125, Score: 34.55, Max: 38.73, Min: 24.88 \n",
      "Episode: 126, Score: 36.21, Max: 38.91, Min: 30.28 \n",
      "Episode: 127, Score: 33.55, Max: 37.97, Min: 23.35 \n",
      "Episode: 128, Score: 33.98, Max: 36.66, Min: 28.80 \n",
      "Episode: 129, Score: 34.33, Max: 39.04, Min: 22.24 \n",
      "Episode: 130, Score: 34.76, Max: 38.65, Min: 29.89 \n",
      "*** Episode 130\tAverage Score: 16.41, Time: 00:46:45 *** \n",
      "Episode: 131, Score: 35.49, Max: 39.35, Min: 30.84 \n",
      "Episode: 132, Score: 34.48, Max: 38.56, Min: 22.22 \n",
      "Episode: 133, Score: 36.26, Max: 39.17, Min: 26.52 \n",
      "Episode: 134, Score: 35.65, Max: 39.41, Min: 28.38 \n",
      "Episode: 135, Score: 36.47, Max: 39.58, Min: 30.75 \n",
      "Episode: 136, Score: 35.25, Max: 39.48, Min: 29.29 \n",
      "Episode: 137, Score: 36.55, Max: 38.83, Min: 31.56 \n",
      "Episode: 138, Score: 37.40, Max: 39.59, Min: 33.15 \n",
      "Episode: 139, Score: 36.85, Max: 39.38, Min: 33.17 \n",
      "Episode: 140, Score: 37.30, Max: 39.45, Min: 32.06 \n",
      "*** Episode 140\tAverage Score: 19.76, Time: 00:50:49 *** \n",
      "Episode: 141, Score: 37.13, Max: 39.33, Min: 31.16 \n",
      "Episode: 142, Score: 37.32, Max: 39.29, Min: 34.29 \n",
      "Episode: 143, Score: 37.22, Max: 39.56, Min: 29.33 \n",
      "Episode: 144, Score: 36.57, Max: 39.20, Min: 31.90 \n",
      "Episode: 145, Score: 36.41, Max: 38.98, Min: 30.08 \n",
      "Episode: 146, Score: 37.29, Max: 39.47, Min: 33.66 \n",
      "Episode: 147, Score: 37.65, Max: 39.56, Min: 34.12 \n",
      "Episode: 148, Score: 37.23, Max: 39.49, Min: 31.28 \n",
      "Episode: 149, Score: 36.84, Max: 39.40, Min: 27.80 \n"
     ]
    },
    {
     "name": "stdout",
     "output_type": "stream",
     "text": [
      "Episode: 150, Score: 37.39, Max: 39.62, Min: 34.00 \n",
      "*** Episode 150\tAverage Score: 23.06, Time: 00:54:43 *** \n",
      "Episode: 151, Score: 37.48, Max: 39.51, Min: 26.41 \n",
      "Episode: 152, Score: 36.04, Max: 39.13, Min: 28.36 \n",
      "Episode: 153, Score: 37.31, Max: 39.54, Min: 29.15 \n",
      "Episode: 154, Score: 37.01, Max: 39.56, Min: 30.48 \n",
      "Episode: 155, Score: 36.63, Max: 39.41, Min: 26.82 \n",
      "Episode: 156, Score: 36.22, Max: 38.85, Min: 33.24 \n",
      "Episode: 157, Score: 37.97, Max: 39.45, Min: 35.81 \n",
      "Episode: 158, Score: 36.16, Max: 39.28, Min: 30.66 \n",
      "Episode: 159, Score: 37.14, Max: 39.08, Min: 31.36 \n",
      "Episode: 160, Score: 37.35, Max: 39.33, Min: 33.34 \n",
      "*** Episode 160\tAverage Score: 26.18, Time: 00:58:43 *** \n",
      "Episode: 161, Score: 37.98, Max: 39.55, Min: 32.97 \n",
      "Episode: 162, Score: 36.34, Max: 38.40, Min: 33.98 \n",
      "Episode: 163, Score: 36.89, Max: 39.13, Min: 33.70 \n",
      "Episode: 164, Score: 36.63, Max: 39.31, Min: 32.61 \n",
      "Episode: 165, Score: 37.10, Max: 39.04, Min: 34.53 \n",
      "Episode: 166, Score: 38.17, Max: 39.14, Min: 35.99 \n",
      "Episode: 167, Score: 37.22, Max: 39.27, Min: 34.50 \n",
      "Episode: 168, Score: 36.95, Max: 39.03, Min: 33.91 \n",
      "Episode: 169, Score: 35.75, Max: 39.06, Min: 27.51 \n",
      "Episode: 170, Score: 35.99, Max: 39.33, Min: 30.88 \n",
      "*** Episode 170\tAverage Score: 29.08, Time: 01:02:49 *** \n",
      "Episode: 171, Score: 36.40, Max: 39.45, Min: 32.22 \n",
      "Episode: 172, Score: 36.75, Max: 39.07, Min: 29.26 \n",
      "Episode: 173, Score: 37.88, Max: 39.42, Min: 34.97 \n",
      "Episode: 174, Score: 36.67, Max: 39.48, Min: 31.16 \n",
      "*** Episode 174\tAverage Score: 30.21, Time: 01:04:21 *** \n",
      "Environment solved !\n"
     ]
    }
   ],
   "source": [
    "# define DDPG model\n",
    "\n",
    "def ddpg(n_episodes=1000, print_every=10):\n",
    "    scores_deque = deque(maxlen=100)\n",
    "    scores_global = []\n",
    "        \n",
    "    time_start = time.time()\n",
    "    \n",
    "    for i_episode in range(1, n_episodes+1):\n",
    "        env_info = env.reset(train_mode=True)[brain_name]      # reset the environment    \n",
    "        states = env_info.vector_observations                  # get the current state (for each agent)\n",
    "        scores = np.zeros(num_agents)                          # initialize the score (for each agent)\n",
    "        agent.reset()\n",
    "        score_average = 0\n",
    "\n",
    "        for timestep in range(2000):\n",
    "            actions = agent.act(states)\n",
    "            env_info = env.step(actions)[brain_name]           # send all actions to tne environment\n",
    "            next_states = env_info.vector_observations         # get next state (for each agent)\n",
    "            rewards = env_info.rewards                         # get reward (for each agent)\n",
    "            dones = env_info.local_done                        # see if episode finished\n",
    "            agent.step(states, actions, rewards, next_states, dones, timestep)\n",
    "            states = next_states                               # roll over states to next time step\n",
    "            scores += rewards                                  # update the score (for each agent)    \n",
    "            if np.any(dones):                                  # exit loop if episode finished\n",
    "                break\n",
    "        \n",
    "        score = np.mean(scores)\n",
    "        scores_deque.append(score)\n",
    "        score_average = np.mean(scores_deque)\n",
    "        scores_global.append(score)\n",
    "        \n",
    "        print('Episode: {}, Score: {:.2f}, Max: {:.2f}, Min: {:.2f} '\\\n",
    "              .format(i_episode, score, np.max(scores), np.min(scores)))\n",
    "        \n",
    "        if i_episode % print_every == 0 or (len(scores_deque) == 100 and np.mean(scores_deque) >= 30) :\n",
    "            torch.save(agent.actor_local.state_dict(), 'checkpoint_actor.pth')\n",
    "            torch.save(agent.critic_local.state_dict(), 'checkpoint_critic.pth')\n",
    "            s = (int)(time.time() - time_start) \n",
    "            print('*** Episode {}\\tAverage Score: {:.2f}, Time: {:02}:{:02}:{:02} *** '\\\n",
    "                  .format(i_episode, np.mean(scores_deque), s//3600, s%3600//60, s%60))  \n",
    "            \n",
    "        if len(scores_deque) == 100 and np.mean(scores_deque) >= 30:  \n",
    "            print('Environment solved !')\n",
    "            break\n",
    "            \n",
    "    return scores_global\n",
    "\n",
    "scores = ddpg()"
   ]
  },
  {
   "cell_type": "markdown",
   "metadata": {},
   "source": [
    "## Visualize training"
   ]
  },
  {
   "cell_type": "code",
   "execution_count": 6,
   "metadata": {},
   "outputs": [
    {
     "data": {
      "image/png": "[encoded data removed]",
      "text/plain": [
       "<Figure size 432x288 with 1 Axes>"
      ]
     },
     "metadata": {
      "needs_background": "light"
     },
     "output_type": "display_data"
    }
   ],
   "source": [
    "fig = plt.figure()\n",
    "ax = fig.add_subplot(111)\n",
    "plt.plot(np.arange(1, len(scores)+1), scores)\n",
    "plt.ylabel('Score')\n",
    "plt.xlabel('Episode #')\n",
    "plt.show()"
   ]
  },
  {
   "cell_type": "code",
   "execution_count": 7,
   "metadata": {},
   "outputs": [],
   "source": [
    "env.close()\n"
   ]
  }
 ],
 "metadata": {
  "kernelspec": {
   "display_name": "DRL",
   "language": "python",
   "name": "drlnd"
  },
  "language_info": {
   "codemirror_mode": {
    "name": "ipython",
    "version": 3
   },
   "file_extension": ".py",
   "mimetype": "text/x-python",
   "name": "python",
   "nbconvert_exporter": "python",
   "pygments_lexer": "ipython3",
   "version": "3.6.10"
  }
 },
 "nbformat": 4,
 "nbformat_minor": 4
}
